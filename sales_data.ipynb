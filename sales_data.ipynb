{
 "cells": [
  {
   "cell_type": "code",
   "execution_count": 3,
   "id": "0541abba-59b4-407f-9dcb-c162df93e662",
   "metadata": {},
   "outputs": [],
   "source": [
    "import sqlite3"
   ]
  },
  {
   "cell_type": "markdown",
   "id": "8664957b-053a-48e4-b4a4-b87eb2ce47c0",
   "metadata": {},
   "source": [
    "##Step 1:In Python, create the SQLite DB and a sample sales table."
   ]
  },
  {
   "cell_type": "code",
   "execution_count": 2,
   "id": "3c4dffaf-72b0-4645-b0b7-464b50c8a903",
   "metadata": {},
   "outputs": [],
   "source": [
    "# Connect to a new SQLite database file\n",
    "conn = sqlite3.connect('sales_data.db')\n",
    "cursor = conn.cursor()\n",
    "\n",
    "# Create a sales table\n",
    "cursor.execute('''\n",
    "CREATE TABLE sales (\n",
    "    id INTEGER PRIMARY KEY,\n",
    "    product TEXT,\n",
    "    quantity INTEGER,\n",
    "    price REAL\n",
    ")\n",
    "''')\n",
    "\n",
    "# Insert sample data\n",
    "sample_data = [\n",
    "    ('Pizza', 10, 8.99),\n",
    "    ('Burger', 5, 4.99),\n",
    "    ('Sandwich', 7, 3.99),\n",
    "    ('Pizza', 4, 8.99),\n",
    "    ('Burger', 6, 4.99)\n",
    "]\n",
    "cursor.executemany('INSERT INTO sales (product, quantity, price) VALUES (?, ?, ?)', sample_data)\n",
    "\n",
    "conn.commit()\n",
    "conn.close()"
   ]
  },
  {
   "cell_type": "markdown",
   "id": "cd8dd75d-9661-4418-bae0-1408ae995f5e",
   "metadata": {},
   "source": [
    "Step 2: Run SQL Query in Python to Get Summary"
   ]
  },
  {
   "cell_type": "code",
   "execution_count": 4,
   "id": "f2bb42d2-d3cf-4944-b55e-82bcd0839ca9",
   "metadata": {},
   "outputs": [],
   "source": [
    "import pandas as pd"
   ]
  },
  {
   "cell_type": "code",
   "execution_count": 5,
   "id": "0f502e25-9d4d-4bcf-813b-d70396fb79af",
   "metadata": {},
   "outputs": [
    {
     "name": "stdout",
     "output_type": "stream",
     "text": [
      "    product  total_qty  revenue\n",
      "0    Burger         11    54.89\n",
      "1     Pizza         14   125.86\n",
      "2  Sandwich          7    27.93\n"
     ]
    }
   ],
   "source": [
    "# Connect to the database\n",
    "conn = sqlite3.connect('sales_data.db')\n",
    "\n",
    "# SQL query to calculate total quantity and revenue\n",
    "query = '''\n",
    "SELECT product,\n",
    "       SUM(quantity) AS total_qty,\n",
    "       SUM(quantity * price) AS revenue\n",
    "FROM sales\n",
    "GROUP BY product\n",
    "'''\n",
    "\n",
    "# Load result into a DataFrame\n",
    "df = pd.read_sql_query(query, conn)\n",
    "conn.close()\n",
    "\n",
    "# Print result\n",
    "print(df)"
   ]
  },
  {
   "cell_type": "markdown",
   "id": "5549690e-3822-4f92-9973-dbc677d7f532",
   "metadata": {},
   "source": [
    "Step 3: Plot a Simple Bar Chart Using Matplotlib"
   ]
  },
  {
   "cell_type": "code",
   "execution_count": 6,
   "id": "8a338722-457e-433c-a71f-9b3cbc93bd89",
   "metadata": {},
   "outputs": [],
   "source": [
    "import matplotlib.pyplot as plt"
   ]
  },
  {
   "cell_type": "code",
   "execution_count": 7,
   "id": "48f3f848-f14f-4289-b2ad-f99fdb0334f1",
   "metadata": {},
   "outputs": [
    {
     "data": {
      "image/png": "[encoded data removed]",
      "text/plain": [
       "<Figure size 640x480 with 1 Axes>"
      ]
     },
     "metadata": {},
     "output_type": "display_data"
    }
   ],
   "source": [
    "# Plot revenue per product\n",
    "df.plot(kind='bar', x='product', y='revenue', legend=False)\n",
    "plt.title('Revenue by Product')\n",
    "plt.xlabel('Product')\n",
    "plt.ylabel('Revenue')\n",
    "plt.tight_layout()\n",
    "plt.savefig(\"sales_chart.png\")  # Optional\n",
    "plt.show()"
   ]
  },
  {
   "cell_type": "code",
   "execution_count": null,
   "id": "49c56b92-2d0d-4a82-a4ea-38f173787acf",
   "metadata": {},
   "outputs": [],
   "source": []
  },
  {
   "cell_type": "code",
   "execution_count": null,
   "id": "4a5994b8-d053-45db-ac21-cd044ea1c6fc",
   "metadata": {},
   "outputs": [],
   "source": []
  },
  {
   "cell_type": "code",
   "execution_count": null,
   "id": "b560efcc-c361-4281-9117-e3ea811ba8c5",
   "metadata": {},
   "outputs": [],
   "source": []
  },
  {
   "cell_type": "code",
   "execution_count": null,
   "id": "7ca04f95-2618-4f37-9f90-ff20e1aa32b1",
   "metadata": {},
   "outputs": [],
   "source": []
  },
  {
   "cell_type": "code",
   "execution_count": null,
   "id": "c357c70a-0df8-4293-8a06-860e96154b6f",
   "metadata": {},
   "outputs": [],
   "source": []
  },
  {
   "cell_type": "code",
   "execution_count": null,
   "id": "f2c274b5-f98c-4fa3-b65d-9501c43d07c6",
   "metadata": {},
   "outputs": [],
   "source": []
  },
  {
   "cell_type": "code",
   "execution_count": null,
   "id": "86118fb4-4da1-4765-9da3-44a40e512bd6",
   "metadata": {},
   "outputs": [],
   "source": []
  },
  {
   "cell_type": "code",
   "execution_count": null,
   "id": "88489136-7e64-4a89-90e2-5071de23bc8d",
   "metadata": {},
   "outputs": [],
   "source": []
  },
  {
   "cell_type": "code",
   "execution_count": null,
   "id": "2544fabc-cce5-4d65-ab22-7c0f6f588e8a",
   "metadata": {},
   "outputs": [],
   "source": []
  }
 ],
 "metadata": {
  "kernelspec": {
   "display_name": "Python 3 (ipykernel)",
   "language": "python",
   "name": "python3"
  },
  "language_info": {
   "codemirror_mode": {
    "name": "ipython",
    "version": 3
   },
   "file_extension": ".py",
   "mimetype": "text/x-python",
   "name": "python",
   "nbconvert_exporter": "python",
   "pygments_lexer": "ipython3",
   "version": "3.12.4"
  }
 },
 "nbformat": 4,
 "nbformat_minor": 5
}
